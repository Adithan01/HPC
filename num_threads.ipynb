{
  "nbformat": 4,
  "nbformat_minor": 0,
  "metadata": {
    "colab": {
      "provenance": []
    },
    "kernelspec": {
      "name": "python3",
      "display_name": "Python 3"
    },
    "language_info": {
      "name": "python"
    }
  },
  "cells": [
    {
      "cell_type": "code",
      "source": [
        "!apt-get update\n",
        "!apt-get install clang libomp-dev"
      ],
      "metadata": {
        "colab": {
          "base_uri": "https://localhost:8080/"
        },
        "id": "VCTIL_y8sXFy",
        "outputId": "f308ab57-bbbf-4fb4-f680-ef7a8800ab06"
      },
      "execution_count": null,
      "outputs": [
        {
          "output_type": "stream",
          "name": "stdout",
          "text": [
            "\r0% [Working]\r            \rGet:1 https://cloud.r-project.org/bin/linux/ubuntu jammy-cran40/ InRelease [3,626 B]\n",
            "Get:2 https://developer.download.nvidia.com/compute/cuda/repos/ubuntu2204/x86_64  InRelease [1,581 B]\n",
            "Get:3 http://security.ubuntu.com/ubuntu jammy-security InRelease [110 kB]\n",
            "Get:4 https://developer.download.nvidia.com/compute/cuda/repos/ubuntu2204/x86_64  Packages [808 kB]\n",
            "Get:5 http://security.ubuntu.com/ubuntu jammy-security/multiverse amd64 Packages [44.7 kB]\n",
            "Get:6 http://security.ubuntu.com/ubuntu jammy-security/universe amd64 Packages [1,082 kB]\n",
            "Get:7 http://security.ubuntu.com/ubuntu jammy-security/main amd64 Packages [1,691 kB]\n",
            "Get:8 http://security.ubuntu.com/ubuntu jammy-security/restricted amd64 Packages [2,135 kB]\n",
            "Hit:9 http://archive.ubuntu.com/ubuntu jammy InRelease\n",
            "Get:10 http://archive.ubuntu.com/ubuntu jammy-updates InRelease [119 kB]\n",
            "Hit:11 http://archive.ubuntu.com/ubuntu jammy-backports InRelease\n",
            "Get:12 http://archive.ubuntu.com/ubuntu jammy-updates/main amd64 Packages [1,974 kB]\n",
            "Get:13 http://archive.ubuntu.com/ubuntu jammy-updates/restricted amd64 Packages [2,176 kB]\n",
            "Get:14 http://archive.ubuntu.com/ubuntu jammy-updates/multiverse amd64 Packages [61.3 kB]\n",
            "Get:15 http://archive.ubuntu.com/ubuntu jammy-updates/universe amd64 Packages [1,375 kB]\n",
            "Hit:16 https://ppa.launchpadcontent.net/c2d4u.team/c2d4u4.0+/ubuntu jammy InRelease\n",
            "Hit:17 https://ppa.launchpadcontent.net/deadsnakes/ppa/ubuntu jammy InRelease\n",
            "Hit:18 https://ppa.launchpadcontent.net/graphics-drivers/ppa/ubuntu jammy InRelease\n",
            "Hit:19 https://ppa.launchpadcontent.net/ubuntugis/ppa/ubuntu jammy InRelease\n",
            "Fetched 11.6 MB in 26s (453 kB/s)\n",
            "Reading package lists... Done\n",
            "Reading package lists... Done\n",
            "Building dependency tree... Done\n",
            "Reading state information... Done\n",
            "clang is already the newest version (1:14.0-55~exp2).\n",
            "The following additional packages will be installed:\n",
            "  libomp-14-dev libomp5-14\n",
            "Suggested packages:\n",
            "  libomp-14-doc\n",
            "The following NEW packages will be installed:\n",
            "  libomp-14-dev libomp-dev libomp5-14\n",
            "0 upgraded, 3 newly installed, 0 to remove and 46 not upgraded.\n",
            "Need to get 738 kB of archives.\n",
            "After this operation, 8,991 kB of additional disk space will be used.\n",
            "Get:1 http://archive.ubuntu.com/ubuntu jammy-updates/universe amd64 libomp5-14 amd64 1:14.0.0-1ubuntu1.1 [389 kB]\n",
            "Get:2 http://archive.ubuntu.com/ubuntu jammy-updates/universe amd64 libomp-14-dev amd64 1:14.0.0-1ubuntu1.1 [347 kB]\n",
            "Get:3 http://archive.ubuntu.com/ubuntu jammy/universe amd64 libomp-dev amd64 1:14.0-55~exp2 [3,074 B]\n",
            "Fetched 738 kB in 0s (6,001 kB/s)\n",
            "Selecting previously unselected package libomp5-14:amd64.\n",
            "(Reading database ... 121752 files and directories currently installed.)\n",
            "Preparing to unpack .../libomp5-14_1%3a14.0.0-1ubuntu1.1_amd64.deb ...\n",
            "Unpacking libomp5-14:amd64 (1:14.0.0-1ubuntu1.1) ...\n",
            "Selecting previously unselected package libomp-14-dev.\n",
            "Preparing to unpack .../libomp-14-dev_1%3a14.0.0-1ubuntu1.1_amd64.deb ...\n",
            "Unpacking libomp-14-dev (1:14.0.0-1ubuntu1.1) ...\n",
            "Selecting previously unselected package libomp-dev:amd64.\n",
            "Preparing to unpack .../libomp-dev_1%3a14.0-55~exp2_amd64.deb ...\n",
            "Unpacking libomp-dev:amd64 (1:14.0-55~exp2) ...\n",
            "Setting up libomp5-14:amd64 (1:14.0.0-1ubuntu1.1) ...\n",
            "Setting up libomp-14-dev (1:14.0.0-1ubuntu1.1) ...\n",
            "Setting up libomp-dev:amd64 (1:14.0-55~exp2) ...\n",
            "Processing triggers for libc-bin (2.35-0ubuntu3.4) ...\n",
            "/sbin/ldconfig.real: /usr/local/lib/libtbb.so.12 is not a symbolic link\n",
            "\n",
            "/sbin/ldconfig.real: /usr/local/lib/libtbbbind_2_5.so.3 is not a symbolic link\n",
            "\n",
            "/sbin/ldconfig.real: /usr/local/lib/libtbbbind.so.3 is not a symbolic link\n",
            "\n",
            "/sbin/ldconfig.real: /usr/local/lib/libtbbmalloc_proxy.so.2 is not a symbolic link\n",
            "\n",
            "/sbin/ldconfig.real: /usr/local/lib/libtbbmalloc.so.2 is not a symbolic link\n",
            "\n",
            "/sbin/ldconfig.real: /usr/local/lib/libtbbbind_2_0.so.3 is not a symbolic link\n",
            "\n"
          ]
        }
      ]
    },
    {
      "cell_type": "code",
      "execution_count": 165,
      "metadata": {
        "colab": {
          "base_uri": "https://localhost:8080/"
        },
        "id": "9KEjMx27rCsu",
        "outputId": "c2876707-60e9-4e3d-bc9d-f74cf799e4b8"
      },
      "outputs": [
        {
          "output_type": "stream",
          "name": "stdout",
          "text": [
            "Overwriting hello2.cpp\n"
          ]
        }
      ],
      "source": [
        "%%writefile hello2.cpp\n",
        "#include <stdio.h>\n",
        "#include <stdlib.h>\n",
        "#include <time.h>\n",
        "#include <omp.h>\n",
        "\n",
        "#define INPUT_SIZE 1000\n",
        "#define HIDDEN_SIZE 256\n",
        "#define OUTPUT_SIZE 100\n",
        "#define LEARNING_RATE 0.001\n",
        "#define ITERATIONS 2000\n",
        "\n",
        "// Define neural network parameters\n",
        "float input[INPUT_SIZE];\n",
        "float hidden_weights[INPUT_SIZE][HIDDEN_SIZE];\n",
        "float hidden_bias[HIDDEN_SIZE];\n",
        "float hidden_output[HIDDEN_SIZE];\n",
        "float output_weights[HIDDEN_SIZE][OUTPUT_SIZE];\n",
        "float output_bias[OUTPUT_SIZE];\n",
        "float output[OUTPUT_SIZE];\n",
        "\n",
        "// Forward pass of the neural network\n",
        "void forward_pass() {\n",
        "    // Compute hidden layer output\n",
        "    #pragma omp parallel for\n",
        "    for (int i = 0; i < HIDDEN_SIZE; i++) {\n",
        "        float sum = 0.0;\n",
        "        for (int j = 0; j < INPUT_SIZE; j++) {\n",
        "            sum += input[j] * hidden_weights[j][i];\n",
        "        }\n",
        "        float result = sum + hidden_bias[i];\n",
        "        hidden_output[i] = (result > 0) ? result : 0; // ReLU activation\n",
        "    }\n",
        "\n",
        "    // Compute output layer output\n",
        "    #pragma omp parallel for\n",
        "    for (int i = 0; i < OUTPUT_SIZE; i++) {\n",
        "        float sum = 0.0;\n",
        "        for (int j = 0; j < HIDDEN_SIZE; j++) {\n",
        "            sum += hidden_output[j] * output_weights[j][i];\n",
        "        }\n",
        "        output[i] = sum + output_bias[i];\n",
        "    }\n",
        "}\n",
        "\n",
        "// Backward pass of the neural network\n",
        "void backward_pass(float target[OUTPUT_SIZE]) {\n",
        "    // Compute output layer gradients\n",
        "    #pragma omp parallel for\n",
        "    for (int i = 0; i < OUTPUT_SIZE; i++) {\n",
        "        float error = output[i] - target[i];\n",
        "        for (int j = 0; j < HIDDEN_SIZE; j++) {\n",
        "            output_weights[j][i] -= LEARNING_RATE * error * hidden_output[j];\n",
        "        }\n",
        "        output_bias[i] -= LEARNING_RATE * error;\n",
        "    }\n",
        "\n",
        "    // Compute hidden layer gradients\n",
        "    #pragma omp parallel for\n",
        "    for (int i = 0; i < HIDDEN_SIZE; i++) {\n",
        "        float error = 0.0;\n",
        "        for (int j = 0; j < OUTPUT_SIZE; j++) {\n",
        "            error += (output[j] - target[j]) * output_weights[i][j];\n",
        "        }\n",
        "        error *= (hidden_output[i] > 0) ? 1 : 0; // ReLU derivative\n",
        "        for (int j = 0; j < INPUT_SIZE; j++) {\n",
        "            hidden_weights[j][i] -= LEARNING_RATE * error * input[j];\n",
        "        }\n",
        "        hidden_bias[i] -= LEARNING_RATE * error;\n",
        "    }\n",
        "}\n",
        "\n",
        "int main() {\n",
        "    // Set the number of threads used by OpenMP\n",
        "    int num_threads = 2;  // Change this to the desired number of threads\n",
        "    omp_set_num_threads(num_threads);\n",
        "\n",
        "    // Initialize neural network parameters\n",
        "    // (Initialization code omitted for brevity)\n",
        "\n",
        "    // Dummy input (for demonstration purposes)\n",
        "    for (int i = 0; i < INPUT_SIZE; i++) {\n",
        "        input[i] = (float)(rand()) / RAND_MAX;\n",
        "    }\n",
        "\n",
        "    // Dummy target output (for demonstration purposes)\n",
        "    float target[OUTPUT_SIZE] = {0.1, 0.2, 0.3, 0.4, 0.5, 0.6, 0.7, 0.8, 0.9, 1.0};\n",
        "\n",
        "    // Timing code\n",
        "    clock_t start_time = clock();\n",
        "\n",
        "    // Perform multiple iterations of forward and backward passes\n",
        "    for (int iter = 0; iter < ITERATIONS; iter++) {\n",
        "        forward_pass();\n",
        "        backward_pass(target);\n",
        "    }\n",
        "\n",
        "    clock_t end_time = clock();\n",
        "    double total_time = (double)(end_time - start_time) / CLOCKS_PER_SEC;\n",
        "    printf(\"Total time: %f seconds\\n\", total_time);\n",
        "\n",
        "    return 0;\n",
        "}\n"
      ]
    },
    {
      "cell_type": "code",
      "source": [
        "!clang++ -fopenmp hello2.cpp -o hello2"
      ],
      "metadata": {
        "colab": {
          "base_uri": "https://localhost:8080/"
        },
        "id": "l1EdAcvPrInG",
        "outputId": "741ae5d2-80f9-4599-f07d-3ae000685033"
      },
      "execution_count": 166,
      "outputs": [
        {
          "output_type": "stream",
          "name": "stdout",
          "text": [
            "\u001b[1mhello2.cpp:82:38: \u001b[0m\u001b[0;1;35mwarning: \u001b[0m\u001b[1mimplicit conversion from 'int' to 'float' changes\n",
            "      value from 2147483647 to 2147483648 [-Wimplicit-const-int-float-conversion]\u001b[0m\n",
            "        input[i] = (float)(rand()) / RAND_MAX;\n",
            "\u001b[0;1;32m                                   ~ ^~~~~~~~\n",
            "\u001b[0m\u001b[1m/usr/include/stdlib.h:87:18: \u001b[0m\u001b[0;1;30mnote: \u001b[0mexpanded from macro 'RAND_MAX'\u001b[0m\n",
            "#define RAND_MAX        2147483647\n",
            "\u001b[0;1;32m                        ^~~~~~~~~~\n",
            "\u001b[0m1 warning generated.\n"
          ]
        }
      ]
    },
    {
      "cell_type": "code",
      "source": [
        "!./hello2"
      ],
      "metadata": {
        "colab": {
          "base_uri": "https://localhost:8080/"
        },
        "id": "AC5-hUJFrLSP",
        "outputId": "5e825f3c-0a59-4ff2-d731-bcbcf12e5c5b"
      },
      "execution_count": 167,
      "outputs": [
        {
          "output_type": "stream",
          "name": "stdout",
          "text": [
            "Total time: 9.249367 seconds\n"
          ]
        }
      ]
    },
    {
      "cell_type": "code",
      "source": [
        "import matplotlib.pyplot as plt\n",
        "\n",
        "# Number of threads used\n",
        "num_threads = [3, 4, 5, 6, 7, 8, 9, 20]\n",
        "\n",
        "# Execution time for each number of threads\n",
        "execution_time = [2.9708, 2.4236, 2.821, 2.468, 3.4418, 2.5488, 2.952, 5.5775]\n",
        "\n",
        "# Plot the data\n",
        "plt.plot(num_threads, execution_time, marker='o')\n",
        "plt.title('Execution Time vs. Number of Threads')\n",
        "plt.xlabel('Number of Threads')\n",
        "plt.ylabel('Execution Time (seconds)')\n",
        "plt.grid(True)\n",
        "plt.show()\n"
      ],
      "metadata": {
        "colab": {
          "base_uri": "https://localhost:8080/",
          "height": 472
        },
        "id": "QBURHDLTsqzZ",
        "outputId": "06a205a9-7079-45f6-da77-0fb1fc73fd07"
      },
      "execution_count": null,
      "outputs": [
        {
          "output_type": "display_data",
          "data": {
            "text/plain": [
              "<Figure size 640x480 with 1 Axes>"
            ],
            "image/png": "[encoded data removed]"
          },
          "metadata": {}
        }
      ]
    },
    {
      "cell_type": "code",
      "source": [
        "import matplotlib.pyplot as plt\n",
        "from tabulate import tabulate\n",
        "\n",
        "# Number of threads used\n",
        "num_threads = [3, 4, 5, 6, 7, 8, 9, 20]\n",
        "\n",
        "# Execution time for each number of threads\n",
        "execution_time = [2.9708, 2.4236, 2.821, 2.468, 3.4418, 2.5488, 2.952, 5.5775]\n",
        "\n",
        "# Create a table\n",
        "table_data = zip(num_threads, execution_time)\n",
        "headers = [\"Number of Threads\", \"Execution Time (seconds)\"]\n",
        "table = tabulate(table_data, headers=headers, tablefmt=\"grid\")\n",
        "\n",
        "\n",
        "# Show the table\n",
        "print(table)\n",
        "\n",
        "# Show the plot\n",
        "plt.show()\n"
      ],
      "metadata": {
        "id": "laZjanx7zP3J",
        "colab": {
          "base_uri": "https://localhost:8080/",
          "height": 0
        },
        "outputId": "c355c99e-ad10-401b-a846-628960897bb2"
      },
      "execution_count": 162,
      "outputs": [
        {
          "output_type": "stream",
          "name": "stdout",
          "text": [
            "+---------------------+----------------------------+\n",
            "|   Number of Threads |   Execution Time (seconds) |\n",
            "+=====================+============================+\n",
            "|                   3 |                     2.9708 |\n",
            "+---------------------+----------------------------+\n",
            "|                   4 |                     2.4236 |\n",
            "+---------------------+----------------------------+\n",
            "|                   5 |                     2.821  |\n",
            "+---------------------+----------------------------+\n",
            "|                   6 |                     2.468  |\n",
            "+---------------------+----------------------------+\n",
            "|                   7 |                     3.4418 |\n",
            "+---------------------+----------------------------+\n",
            "|                   8 |                     2.5488 |\n",
            "+---------------------+----------------------------+\n",
            "|                   9 |                     2.952  |\n",
            "+---------------------+----------------------------+\n",
            "|                  20 |                     5.5775 |\n",
            "+---------------------+----------------------------+\n"
          ]
        }
      ]
    },
    {
      "cell_type": "code",
      "source": [],
      "metadata": {
        "id": "C_8HdT3911nF"
      },
      "execution_count": null,
      "outputs": []
    }
  ]
}