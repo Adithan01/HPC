{
  "nbformat": 4,
  "nbformat_minor": 0,
  "metadata": {
    "colab": {
      "provenance": []
    },
    "kernelspec": {
      "name": "python3",
      "display_name": "Python 3"
    },
    "language_info": {
      "name": "python"
    }
  },
  "cells": [
    {
      "cell_type": "code",
      "execution_count": 1,
      "metadata": {
        "colab": {
          "base_uri": "https://localhost:8080/",
          "height": 0
        },
        "id": "c2Z5jP9-zvtv",
        "outputId": "0fb38e33-1622-4c55-c85f-0d10fa26d699"
      },
      "outputs": [
        {
          "output_type": "stream",
          "name": "stdout",
          "text": [
            "\r0% [Working]\r            \rGet:1 https://cloud.r-project.org/bin/linux/ubuntu jammy-cran40/ InRelease [3,626 B]\n",
            "\r0% [Connecting to archive.ubuntu.com] [Waiting for headers] [1 InRelease 3,626 B/3,626 B 100%] [Conn\r0% [Connecting to archive.ubuntu.com] [Waiting for headers] [Connecting to ppa.launchpadcontent.net]\r                                                                                                    \rGet:2 https://developer.download.nvidia.com/compute/cuda/repos/ubuntu2204/x86_64  InRelease [1,581 B]\n",
            "Get:3 http://security.ubuntu.com/ubuntu jammy-security InRelease [110 kB]\n",
            "Hit:4 http://archive.ubuntu.com/ubuntu jammy InRelease\n",
            "Get:5 http://archive.ubuntu.com/ubuntu jammy-updates InRelease [119 kB]\n",
            "Get:6 https://developer.download.nvidia.com/compute/cuda/repos/ubuntu2204/x86_64  Packages [808 kB]\n",
            "Hit:7 http://archive.ubuntu.com/ubuntu jammy-backports InRelease\n",
            "Hit:8 https://ppa.launchpadcontent.net/c2d4u.team/c2d4u4.0+/ubuntu jammy InRelease\n",
            "Hit:9 https://ppa.launchpadcontent.net/deadsnakes/ppa/ubuntu jammy InRelease\n",
            "Get:10 http://security.ubuntu.com/ubuntu jammy-security/universe amd64 Packages [1,082 kB]\n",
            "Hit:11 https://ppa.launchpadcontent.net/graphics-drivers/ppa/ubuntu jammy InRelease\n",
            "Hit:12 https://ppa.launchpadcontent.net/ubuntugis/ppa/ubuntu jammy InRelease\n",
            "Get:13 http://archive.ubuntu.com/ubuntu jammy-updates/restricted amd64 Packages [2,176 kB]\n",
            "Get:14 http://security.ubuntu.com/ubuntu jammy-security/multiverse amd64 Packages [44.7 kB]\n",
            "Get:15 http://security.ubuntu.com/ubuntu jammy-security/main amd64 Packages [1,691 kB]\n",
            "Get:16 http://security.ubuntu.com/ubuntu jammy-security/restricted amd64 Packages [2,135 kB]\n",
            "Get:17 http://archive.ubuntu.com/ubuntu jammy-updates/multiverse amd64 Packages [61.3 kB]\n",
            "Get:18 http://archive.ubuntu.com/ubuntu jammy-updates/main amd64 Packages [1,974 kB]\n",
            "Get:19 http://archive.ubuntu.com/ubuntu jammy-updates/universe amd64 Packages [1,375 kB]\n",
            "Fetched 11.6 MB in 3s (3,427 kB/s)\n",
            "Reading package lists... Done\n",
            "Reading package lists... Done\n",
            "Building dependency tree... Done\n",
            "Reading state information... Done\n",
            "clang is already the newest version (1:14.0-55~exp2).\n",
            "The following additional packages will be installed:\n",
            "  libomp-14-dev libomp5-14\n",
            "Suggested packages:\n",
            "  libomp-14-doc\n",
            "The following NEW packages will be installed:\n",
            "  libomp-14-dev libomp-dev libomp5-14\n",
            "0 upgraded, 3 newly installed, 0 to remove and 46 not upgraded.\n",
            "Need to get 738 kB of archives.\n",
            "After this operation, 8,991 kB of additional disk space will be used.\n",
            "Get:1 http://archive.ubuntu.com/ubuntu jammy-updates/universe amd64 libomp5-14 amd64 1:14.0.0-1ubuntu1.1 [389 kB]\n",
            "Get:2 http://archive.ubuntu.com/ubuntu jammy-updates/universe amd64 libomp-14-dev amd64 1:14.0.0-1ubuntu1.1 [347 kB]\n",
            "Get:3 http://archive.ubuntu.com/ubuntu jammy/universe amd64 libomp-dev amd64 1:14.0-55~exp2 [3,074 B]\n",
            "Fetched 738 kB in 1s (1,150 kB/s)\n",
            "Selecting previously unselected package libomp5-14:amd64.\n",
            "(Reading database ... 121752 files and directories currently installed.)\n",
            "Preparing to unpack .../libomp5-14_1%3a14.0.0-1ubuntu1.1_amd64.deb ...\n",
            "Unpacking libomp5-14:amd64 (1:14.0.0-1ubuntu1.1) ...\n",
            "Selecting previously unselected package libomp-14-dev.\n",
            "Preparing to unpack .../libomp-14-dev_1%3a14.0.0-1ubuntu1.1_amd64.deb ...\n",
            "Unpacking libomp-14-dev (1:14.0.0-1ubuntu1.1) ...\n",
            "Selecting previously unselected package libomp-dev:amd64.\n",
            "Preparing to unpack .../libomp-dev_1%3a14.0-55~exp2_amd64.deb ...\n",
            "Unpacking libomp-dev:amd64 (1:14.0-55~exp2) ...\n",
            "Setting up libomp5-14:amd64 (1:14.0.0-1ubuntu1.1) ...\n",
            "Setting up libomp-14-dev (1:14.0.0-1ubuntu1.1) ...\n",
            "Setting up libomp-dev:amd64 (1:14.0-55~exp2) ...\n",
            "Processing triggers for libc-bin (2.35-0ubuntu3.4) ...\n",
            "/sbin/ldconfig.real: /usr/local/lib/libtbb.so.12 is not a symbolic link\n",
            "\n",
            "/sbin/ldconfig.real: /usr/local/lib/libtbbbind_2_5.so.3 is not a symbolic link\n",
            "\n",
            "/sbin/ldconfig.real: /usr/local/lib/libtbbbind.so.3 is not a symbolic link\n",
            "\n",
            "/sbin/ldconfig.real: /usr/local/lib/libtbbmalloc_proxy.so.2 is not a symbolic link\n",
            "\n",
            "/sbin/ldconfig.real: /usr/local/lib/libtbbmalloc.so.2 is not a symbolic link\n",
            "\n",
            "/sbin/ldconfig.real: /usr/local/lib/libtbbbind_2_0.so.3 is not a symbolic link\n",
            "\n"
          ]
        }
      ],
      "source": [
        "!apt-get update\n",
        "!apt-get install clang libomp-dev"
      ]
    },
    {
      "cell_type": "code",
      "source": [
        "%%writefile hello2.cpp\n",
        "\n",
        "#include <stdio.h>\n",
        "#include <stdlib.h>\n",
        "#include <time.h>\n",
        "\n",
        "#define INPUT_SIZE 1000\n",
        "#define HIDDEN_SIZE 256\n",
        "#define OUTPUT_SIZE 100\n",
        "#define LEARNING_RATE 0.001\n",
        "#define ITERATIONS 500\n",
        "\n",
        "// Define neural network parameters\n",
        "float input[INPUT_SIZE];\n",
        "float hidden_weights[INPUT_SIZE][HIDDEN_SIZE];\n",
        "float hidden_bias[HIDDEN_SIZE];\n",
        "float hidden_output[HIDDEN_SIZE];\n",
        "float output_weights[HIDDEN_SIZE][OUTPUT_SIZE];\n",
        "float output_bias[OUTPUT_SIZE];\n",
        "float output[OUTPUT_SIZE];\n",
        "\n",
        "// Forward pass of the neural network\n",
        "void forward_pass() {\n",
        "    // Compute hidden layer output in parallel\n",
        "    #pragma omp parallel for\n",
        "    for (int i = 0; i < HIDDEN_SIZE; i++) {\n",
        "        float sum = 0.0;\n",
        "        for (int j = 0; j < INPUT_SIZE; j++) {\n",
        "            sum += input[j] * hidden_weights[j][i];\n",
        "        }\n",
        "        hidden_output[i] = sum + hidden_bias[i];\n",
        "        hidden_output[i] = (hidden_output[i] > 0) ? hidden_output[i] : 0; // ReLU activation\n",
        "    }\n",
        "\n",
        "    // Compute output layer output in parallel\n",
        "    #pragma omp parallel for\n",
        "    for (int i = 0; i < OUTPUT_SIZE; i++) {\n",
        "        float sum = 0.0;\n",
        "        for (int j = 0; j < HIDDEN_SIZE; j++) {\n",
        "            sum += hidden_output[j] * output_weights[j][i];\n",
        "        }\n",
        "        output[i] = sum + output_bias[i];\n",
        "    }\n",
        "}\n",
        "\n",
        "// Backward pass of the neural network\n",
        "void backward_pass(float target[OUTPUT_SIZE]) {\n",
        "    // Compute output layer gradients in parallel\n",
        "    #pragma omp parallel for\n",
        "    for (int i = 0; i < OUTPUT_SIZE; i++) {\n",
        "        float error = output[i] - target[i];\n",
        "        for (int j = 0; j < HIDDEN_SIZE; j++) {\n",
        "            output_weights[j][i] -= LEARNING_RATE * error * hidden_output[j];\n",
        "        }\n",
        "        output_bias[i] -= LEARNING_RATE * error;\n",
        "    }\n",
        "\n",
        "    // Compute hidden layer gradients in parallel\n",
        "    #pragma omp parallel for\n",
        "    for (int i = 0; i < HIDDEN_SIZE; i++) {\n",
        "        float error = 0.0;\n",
        "        for (int j = 0; j < OUTPUT_SIZE; j++) {\n",
        "            error += (output[j] - target[j]) * output_weights[i][j];\n",
        "        }\n",
        "        error *= (hidden_output[i] > 0) ? 1 : 0; // ReLU derivative\n",
        "        for (int j = 0; j < INPUT_SIZE; j++) {\n",
        "            hidden_weights[j][i] -= LEARNING_RATE * error * input[j];\n",
        "        }\n",
        "        hidden_bias[i] -= LEARNING_RATE * error;\n",
        "    }\n",
        "}\n",
        "\n",
        "int main() {\n",
        "    // Initialize neural network parameters\n",
        "    // (Initialization code omitted for brevity)\n",
        "\n",
        "    // Dummy input (for demonstration purposes)\n",
        "    for (int i = 0; i < INPUT_SIZE; i++) {\n",
        "        input[i] = (float)(rand()) / RAND_MAX;\n",
        "    }\n",
        "\n",
        "    // Dummy target output (for demonstration purposes)\n",
        "    float target[OUTPUT_SIZE] = {0.1, 0.2, 0.3, 0.4, 0.5, 0.6, 0.7, 0.8, 0.9, 1.0};\n",
        "\n",
        "    // Timing code\n",
        "    clock_t start_time = clock();\n",
        "\n",
        "    // Perform multiple iterations of forward and backward passes\n",
        "    for (int iter = 0; iter < ITERATIONS; iter++) {\n",
        "        forward_pass();\n",
        "        backward_pass(target);\n",
        "    }\n",
        "\n",
        "    clock_t end_time = clock();\n",
        "    double total_time = (double)(end_time - start_time) / CLOCKS_PER_SEC;\n",
        "    printf(\"Total time: %f seconds\\n\", total_time);\n",
        "\n",
        "    return 0;\n",
        "}\n"
      ],
      "metadata": {
        "colab": {
          "base_uri": "https://localhost:8080/",
          "height": 0
        },
        "id": "zrYwa5pl2MEs",
        "outputId": "cdaa0fde-83e1-41fe-db7e-2e54d4cfd937"
      },
      "execution_count": 6,
      "outputs": [
        {
          "output_type": "stream",
          "name": "stdout",
          "text": [
            "Overwriting hello2.cpp\n"
          ]
        }
      ]
    },
    {
      "cell_type": "code",
      "source": [
        "!g++ hello2.cpp -o hello2\n",
        "!./hello2"
      ],
      "metadata": {
        "colab": {
          "base_uri": "https://localhost:8080/",
          "height": 0
        },
        "id": "XLR9lVyt2ePm",
        "outputId": "1ca70a80-e802-440f-e0ad-b22967d423bf"
      },
      "execution_count": 10,
      "outputs": [
        {
          "output_type": "stream",
          "name": "stdout",
          "text": [
            "Total time: 3.231915 seconds\n"
          ]
        }
      ]
    },
    {
      "cell_type": "code",
      "source": [
        "import matplotlib.pyplot as plt\n",
        "from tabulate import tabulate\n",
        "\n",
        "# Number of threads used\n",
        "num_threads = ['none','pragma']\n",
        "\n",
        "# Execution time for each number of threads\n",
        "execution_time = [4.0068,3.2319]\n",
        "\n",
        "# Create a table\n",
        "table_data = zip(num_threads, execution_time)\n",
        "headers = [\"Number of Threads\", \"Execution Time (seconds)\"]\n",
        "table = tabulate(table_data, headers=headers, tablefmt=\"grid\")\n",
        "\n",
        "\n",
        "# Show the table\n",
        "print(table)\n",
        "\n",
        "# Show the plot\n",
        "plt.show()"
      ],
      "metadata": {
        "colab": {
          "base_uri": "https://localhost:8080/",
          "height": 0
        },
        "id": "Xq3JG4p82kfM",
        "outputId": "e81e81f1-367b-48dc-bf33-c6311785c052"
      },
      "execution_count": 12,
      "outputs": [
        {
          "output_type": "stream",
          "name": "stdout",
          "text": [
            "+---------------------+----------------------------+\n",
            "| Number of Threads   |   Execution Time (seconds) |\n",
            "+=====================+============================+\n",
            "| none                |                     4.0068 |\n",
            "+---------------------+----------------------------+\n",
            "| pragma              |                     3.2319 |\n",
            "+---------------------+----------------------------+\n"
          ]
        }
      ]
    },
    {
      "cell_type": "code",
      "source": [],
      "metadata": {
        "id": "iz8FAiZ93XV_"
      },
      "execution_count": null,
      "outputs": []
    }
  ]
}